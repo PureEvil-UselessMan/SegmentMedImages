{
 "cells": [
  {
   "cell_type": "code",
   "execution_count": 3,
   "metadata": {},
   "outputs": [],
   "source": [
    "import Algorithms as alg\n",
    "\n",
    "alg.GenerateTrainData(\"./data/membrane/train/image\", \"./data/membrane/train/label\", [1, 5, 6])"
   ]
  }
 ],
 "metadata": {
  "interpreter": {
   "hash": "6a1ef2bb3df2cce69d42d2d13f3c37429f18d443fa8cbc93d991f8e241bd6894"
  },
  "kernelspec": {
   "display_name": "Python 3.9.10 64-bit",
   "language": "python",
   "name": "python3"
  },
  "language_info": {
   "codemirror_mode": {
    "name": "ipython",
    "version": 3
   },
   "file_extension": ".py",
   "mimetype": "text/x-python",
   "name": "python",
   "nbconvert_exporter": "python",
   "pygments_lexer": "ipython3",
   "version": "3.9.10"
  },
  "orig_nbformat": 4
 },
 "nbformat": 4,
 "nbformat_minor": 2
}
